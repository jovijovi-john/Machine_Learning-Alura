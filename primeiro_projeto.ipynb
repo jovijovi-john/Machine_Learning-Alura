{
 "cells": [
  {
   "attachments": {},
   "cell_type": "markdown",
   "metadata": {},
   "source": [
    "# Primeiro Projeto"
   ]
  },
  {
   "attachments": {},
   "cell_type": "markdown",
   "metadata": {},
   "source": [
    "Vamos fazer uma aplicação de classificação entre cachorros e porcos.  \n",
    "\n",
    "\n",
    "Como são duas classes, logo será uma **classificação binária (0 ou 1)**"
   ]
  },
  {
   "attachments": {},
   "cell_type": "markdown",
   "metadata": {},
   "source": [
    "Características = Features  \n",
    "\n",
    "  \n",
    "  \n",
    "X == Características\n",
    "\n",
    "Y == Labels"
   ]
  },
  {
   "cell_type": "code",
   "execution_count": null,
   "metadata": {},
   "outputs": [],
   "source": [
    "#Features \n",
    "\n",
    "porco1 = [0, 1, 0]"
   ]
  }
 ],
 "metadata": {
  "language_info": {
   "name": "python"
  },
  "orig_nbformat": 4
 },
 "nbformat": 4,
 "nbformat_minor": 2
}
